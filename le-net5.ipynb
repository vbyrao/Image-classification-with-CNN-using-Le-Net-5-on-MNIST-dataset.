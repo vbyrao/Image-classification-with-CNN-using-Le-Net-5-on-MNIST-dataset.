{
 "cells": [
  {
   "cell_type": "code",
   "execution_count": 1,
   "id": "063f0e8f",
   "metadata": {},
   "outputs": [
    {
     "name": "stdout",
     "output_type": "stream",
     "text": [
      "Training images shape: (55000, 32, 32, 1)\n",
      "Training labels shape: (55000, 10)\n",
      "Validation images shape: (5000, 32, 32, 1)\n",
      "Validation labels shape: (5000, 10)\n",
      "Test images shape: (10000, 32, 32, 1)\n",
      "Test labels shape: (10000, 10)\n"
     ]
    }
   ],
   "source": [
    "import tensorflow as tf\n",
    "import numpy as np\n",
    "\n",
    "(X_train, y_train), (X_test, y_test) = tf.keras.datasets.mnist.load_data()\n",
    "\n",
    "X_validation = X_train[:5000]\n",
    "y_validation = y_train[:5000]\n",
    "X_train = X_train[5000:]\n",
    "y_train = y_train[5000:]\n",
    "\n",
    "X_train = X_train.astype('float32') / 255.0\n",
    "X_validation = X_validation.astype('float32') / 255.0\n",
    "X_test = X_test.astype('float32') / 255.0\n",
    "X_train = tf.expand_dims(X_train, axis=-1)\n",
    "X_validation = tf.expand_dims(X_validation, axis=-1)\n",
    "X_test = tf.expand_dims(X_test, axis=-1)\n",
    "y_train = tf.keras.utils.to_categorical(y_train, num_classes=10)\n",
    "y_validation = tf.keras.utils.to_categorical(y_validation, num_classes=10)\n",
    "y_test = tf.keras.utils.to_categorical(y_test, num_classes=10)\n",
    "\n",
    "#X_train = tf.image.resize_with_crop_or_pad(X_train, 32, 32)\n",
    "#X_validation = tf.image.resize_with_crop_or_pad(X_validation, 32, 32)\n",
    "#X_test = tf.image.resize_with_crop_or_pad(X_test, 32, 32)\n",
    "\n",
    "X_train = np.pad(X_train, ((0,0), (2,2), (2,2), (0,0)), 'constant')\n",
    "X_validation = np.pad(X_validation, ((0,0), (2,2), (2,2), (0,0)), 'constant')\n",
    "X_test = np.pad(X_test, ((0,0), (2,2), (2,2), (0,0)), 'constant')\n",
    "\n",
    "print('Training images shape:', X_train.shape) # should be (55000, 32, 32, 1)\n",
    "print('Training labels shape:', y_train.shape) # should be (55000, 10)\n",
    "print('Validation images shape:', X_validation.shape) # should be (5000, 32, 32, 1)\n",
    "print('Validation labels shape:', y_validation.shape) # should be (5000, 10)\n",
    "print('Test images shape:', X_test.shape) # should be (10000, 32, 32, 1)\n",
    "print('Test labels shape:', y_test.shape) # should be (10000, 10)\n"
   ]
  },
  {
   "cell_type": "code",
   "execution_count": 2,
   "id": "7ef18f2c",
   "metadata": {},
   "outputs": [],
   "source": [
    "assert (len(X_train) == len(y_train))\n",
    "assert (len(X_validation) == len(y_validation))\n",
    "assert (len(X_test) == len(y_test))"
   ]
  },
  {
   "cell_type": "code",
   "execution_count": 3,
   "id": "0444ddf0",
   "metadata": {},
   "outputs": [
    {
     "name": "stdout",
     "output_type": "stream",
     "text": [
      "[0. 1. 0. 0. 0. 0. 0. 0. 0. 0.]\n"
     ]
    },
    {
     "data": {
      "image/png": "[encoded data removed]",
      "text/plain": [
       "<Figure size 72x72 with 1 Axes>"
      ]
     },
     "metadata": {
      "needs_background": "light"
     },
     "output_type": "display_data"
    }
   ],
   "source": [
    "import random\n",
    "import numpy as np\n",
    "import matplotlib.pyplot as plt\n",
    "%matplotlib inline\n",
    "\n",
    "index = random.randint(0, len(X_train))\n",
    "image = X_train[index]\n",
    "\n",
    "plt.figure(figsize = (1,1))\n",
    "plt.imshow(image, cmap = \"gray\")\n",
    "print(y_train[index])\n"
   ]
  },
  {
   "cell_type": "code",
   "execution_count": 4,
   "id": "488aee9d",
   "metadata": {},
   "outputs": [],
   "source": [
    "from sklearn.utils import shuffle\n",
    "X_train, y_train = shuffle(X_train, y_train)"
   ]
  },
  {
   "cell_type": "code",
   "execution_count": 5,
   "id": "00a8f238",
   "metadata": {},
   "outputs": [],
   "source": [
    "import tensorflow as tf\n",
    "EPOCHS=2\n",
    "BATCH_SIZE=128"
   ]
  },
  {
   "cell_type": "code",
   "execution_count": 6,
   "id": "7016d05a",
   "metadata": {},
   "outputs": [],
   "source": [
    "#from tensorflow.contrib.layers import flatten\n",
    "\n",
    "def flatten(input_tensor):\n",
    "    # Get the shape of the input tensor\n",
    "    input_shape = input_tensor.get_shape().as_list()\n",
    "    # Compute the size of the flattened tensor\n",
    "    flatten_size = input_shape[1] * input_shape[2] * input_shape[3]\n",
    "    # Reshape the input tensor to a flattened shape\n",
    "    flattened_tensor = tf.reshape(input_tensor, [-1, flatten_size])\n",
    "    return flattened_tensor\n",
    "\n",
    "def LeNet(x):\n",
    "    mu = 0\n",
    "    sigma = 0.1\n",
    "    \n",
    "    conv1_w = tf.Variable(tf.random.truncated_normal(shape = [5,5,1,6], mean = mu, stddev = sigma ))\n",
    "    conv1_b = tf.Variable(tf.zeros(6))\n",
    "    conv1 = tf.nn.conv2d(x, conv1_w, strides = [1,1,1,1], padding = 'VALID') + conv1_b\n",
    "    \n",
    "    conv1 = tf.nn.relu(conv1)\n",
    "    pool_1 = tf.nn.max_pool(conv1, ksize = [1,2,2,1], strides = [1,2,2,1], padding = 'VALID')\n",
    "    \n",
    "    conv2_w = tf.Variable(tf.random.truncated_normal(shape = [5,5,6,16], mean = mu, stddev = sigma))\n",
    "    conv2_b = tf.Variable(tf.zeros(16))\n",
    "    conv2 = tf.nn.conv2d(pool_1, conv2_w, strides = [1,1,1,1], padding = 'VALID') + conv2_b\n",
    "    \n",
    "    conv2 = tf.nn.relu(conv2)\n",
    "    pool_2 = tf.nn.max_pool(conv2, ksize=[1, 2, 2, 1], strides=[1, 2, 2, 1], padding='VALID')\n",
    "    \n",
    "    fc1 = flatten(pool_2)\n",
    "    \n",
    "    fc1_w = tf.Variable(tf.random.truncated_normal(shape = (400, 120), mean = mu, stddev = sigma))\n",
    "    fc1_b = tf.Variable(tf.zeros(120))\n",
    "    fc1   = tf.matmul(fc1, fc1_w) + fc1_b\n",
    "    fc1 = tf.nn.relu(fc1)\n",
    "    \n",
    "    fc2_w = tf.Variable(tf.random.truncated_normal(shape = (120, 84), mean = mu, stddev = sigma))\n",
    "    fc2_b = tf.Variable(tf.zeros(84))\n",
    "    fc2   = tf.matmul(fc1, fc2_w) + fc2_b\n",
    "    fc2 = tf.nn.relu(fc2)\n",
    "    \n",
    "    fc3_w = tf.Variable(tf.random.truncated_normal(shape = (84,10), mean = mu, stddev = sigma))\n",
    "    fc3_b = tf.Variable(tf.zeros(10))\n",
    "    logits = tf.matmul(fc2, fc3_w) + fc3_b\n",
    "    return logits"
   ]
  },
  {
   "cell_type": "code",
   "execution_count": 7,
   "id": "941d977d",
   "metadata": {},
   "outputs": [],
   "source": [
    "tf.compat.v1.disable_eager_execution()\n",
    "input_shape = (None, 32, 32, 1)\n",
    "x = tf.compat.v1.placeholder(tf.float32, shape = input_shape)\n",
    "y = tf.compat.v1.placeholder(tf.int32, (None))\n",
    "one_hot_y = tf.one_hot(y, 10)"
   ]
  },
  {
   "cell_type": "code",
   "execution_count": 8,
   "id": "ac003941",
   "metadata": {},
   "outputs": [
    {
     "name": "stdout",
     "output_type": "stream",
     "text": [
      "Training the model...\n",
      "\n",
      "EPOCH 1 ...\n",
      "Training Loss = 0.090\n",
      "Training Accuracy = 0.977\n",
      "Validation Loss = 0.097\n",
      "Validation Accuracy = 0.970\n",
      "\n",
      "EPOCH 2 ...\n",
      "Training Loss = 0.088\n",
      "Training Accuracy = 0.955\n",
      "Validation Loss = 0.069\n",
      "Validation Accuracy = 0.979\n",
      "\n"
     ]
    },
    {
     "data": {
      "image/png": "[encoded data removed]",
      "text/plain": [
       "<Figure size 432x288 with 2 Axes>"
      ]
     },
     "metadata": {
      "needs_background": "light"
     },
     "output_type": "display_data"
    },
    {
     "name": "stdout",
     "output_type": "stream",
     "text": [
      "Test Accuracy = 0.981\n"
     ]
    }
   ],
   "source": [
    "from sklearn.metrics import confusion_matrix\n",
    "import seaborn as sns\n",
    "import matplotlib.pyplot as plt\n",
    "tf.compat.v1.disable_eager_execution()\n",
    "graph = tf.compat.v1.Graph()\n",
    "\n",
    "with graph.as_default():\n",
    "    \n",
    "    x = tf.compat.v1.placeholder(tf.float32, (None, 32, 32, 1))\n",
    "    y = tf.compat.v1.placeholder(tf.float32, (None, 10))\n",
    "    keep_prob = tf.compat.v1.placeholder(tf.float32)\n",
    "    \n",
    "    model = LeNet(x)\n",
    "    \n",
    "    cross_entropy = tf.nn.softmax_cross_entropy_with_logits(logits=model, labels=y)\n",
    "    loss_operation = tf.reduce_mean(cross_entropy)\n",
    "    \n",
    "    optimizer = tf.compat.v1.train.AdamOptimizer(learning_rate = 0.001)\n",
    "    training_operation = optimizer.minimize(loss_operation)\n",
    "    \n",
    "    correct_prediction = tf.equal(tf.argmax(model, 1), tf.argmax(y, 1))\n",
    "    accuracy_operation = tf.reduce_mean(tf.cast(correct_prediction, tf.float32))\n",
    "    \n",
    "    init = tf.compat.v1.global_variables_initializer()\n",
    "\n",
    "with tf.compat.v1.Session(graph=graph) as sess:\n",
    "    \n",
    "    sess.run(init)\n",
    "    \n",
    "    num_examples = len(X_train)\n",
    "    \n",
    "    print(\"Training the model...\")\n",
    "    print()\n",
    "    \n",
    "    for i in range(EPOCHS):\n",
    "        X_train, y_train = shuffle(X_train, y_train)\n",
    "        \n",
    "        for offset in range(0, num_examples, BATCH_SIZE):\n",
    "            end = offset + BATCH_SIZE\n",
    "            batch_x, batch_y = X_train[offset:end], y_train[offset:end]\n",
    "            sess.run(training_operation, feed_dict={x: batch_x, y: batch_y, keep_prob: 0.5})\n",
    "            \n",
    "        #validation_accuracy = sess.run(accuracy_operation, feed_dict={x: X_validation, y: y_validation, keep_prob: 1.0})\n",
    "        \n",
    "        validation_loss, validation_accuracy = sess.run([loss_operation, accuracy_operation], feed_dict={x: X_validation, y: y_validation, keep_prob: 1.0})\n",
    "        training_loss, training_accuracy = sess.run([loss_operation, accuracy_operation], feed_dict={x: batch_x, y: batch_y, keep_prob: 1.0})\n",
    "        \n",
    "        \n",
    "        print(\"EPOCH {} ...\".format(i+1))\n",
    "        print(\"Training Loss = {:.3f}\".format(training_loss))\n",
    "        print(\"Training Accuracy = {:.3f}\".format(training_accuracy))\n",
    "        print(\"Validation Loss = {:.3f}\".format(validation_loss))\n",
    "        print(\"Validation Accuracy = {:.3f}\".format(validation_accuracy))\n",
    "        print()\n",
    "    \n",
    "    predicted_labels = sess.run(tf.argmax(model, 1), feed_dict={x: X_test, keep_prob: 1.0})\n",
    "    true_labels = np.argmax(y_test, axis=1)\n",
    "    conf_matrix = confusion_matrix(true_labels, predicted_labels)\n",
    "    \n",
    "\n",
    "    ax = sns.heatmap(conf_matrix, annot=True, fmt=\"d\", cmap=\"Blues\")\n",
    "\n",
    "    ax.set_xlabel('Predicted Labels')\n",
    "    ax.set_ylabel('True Labels')\n",
    "\n",
    "    ax.set_title('Confusion Matrix Heatmap')\n",
    "\n",
    "    plt.show()\n",
    "\n",
    "        test_accuracy = sess.run(accuracy_operation, feed_dict={x: X_test, y: y_test, keep_prob: 1.0})\n",
    "    print(\"Test Accuracy = {:.3f}\".format(test_accuracy))\n"
   ]
  },
  {
   "cell_type": "code",
   "execution_count": null,
   "id": "7c9b95d0",
   "metadata": {},
   "outputs": [],
   "source": []
  },
  {
   "cell_type": "code",
   "execution_count": null,
   "id": "67b46b83",
   "metadata": {},
   "outputs": [],
   "source": []
  }
 ],
 "metadata": {
  "kernelspec": {
   "display_name": "Python 3 (ipykernel)",
   "language": "python",
   "name": "python3"
  },
  "language_info": {
   "codemirror_mode": {
    "name": "ipython",
    "version": 3
   },
   "file_extension": ".py",
   "mimetype": "text/x-python",
   "name": "python",
   "nbconvert_exporter": "python",
   "pygments_lexer": "ipython3",
   "version": "3.9.7"
  }
 },
 "nbformat": 4,
 "nbformat_minor": 5
}
